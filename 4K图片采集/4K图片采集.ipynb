{
 "cells": [
  {
   "cell_type": "markdown",
   "metadata": {
    "ExecuteTime": {
     "end_time": "2021-12-29T11:48:14.869321Z",
     "start_time": "2021-12-29T11:48:14.603795Z"
    }
   },
   "source": [
    "### 运行前修改自己的账号密码"
   ]
  },
  {
   "cell_type": "code",
   "execution_count": null,
   "metadata": {
    "ExecuteTime": {
     "end_time": "2021-12-29T06:39:47.983041Z",
     "start_time": "2021-12-29T06:39:30.151180Z"
    }
   },
   "outputs": [],
   "source": [
    "from selenium import webdriver\n",
    "from time import sleep\n",
    "from selenium.webdriver.common.by import By\n",
    "from selenium.webdriver.support.ui import WebDriverWait\n",
    "from selenium.webdriver.support import expected_conditions as EC\n",
    "\n",
    "options = webdriver.ChromeOptions()\n",
    "options.add_argument('--headless')\n",
    "driver = webdriver.Chrome(options=options)\n",
    "\n",
    "driver.get('https://pic.netbian.com/')\n",
    "\n",
    "wait = WebDriverWait(driver, 10, 0.5)\n",
    "wait.until(EC.presence_of_element_located(\n",
    "    (By.XPATH, '/html/body/div[1]/div/div[2]/a[2]')),\n",
    "           message='定位超时').click()\n",
    "\n",
    "sleep(1)\n",
    "\n",
    "driver.find_element(By.XPATH, '/html/body/div[1]/div/div[2]/div[1]/div[3]/ul/li[1]/a/em').click()\n",
    "\n",
    "wait.until(EC.presence_of_element_located(\n",
    "    (By.XPATH, '//*[@id=\"combine_page\"]/div[1]/div')), \n",
    "           message='定位超时')\n",
    "\n",
    "driver.switch_to.frame('ptlogin_iframe')\n",
    "\n",
    "driver.find_element(By.ID, 'switcher_plogin').click()\n",
    "username = driver.find_element(By.ID, 'u')\n",
    "username.send_keys('账号')\n",
    "sleep(1)\n",
    "password = driver.find_element(By.ID, 'p')\n",
    "password.send_keys('密码')\n",
    "sleep(1)\n",
    "driver.find_element(By.ID, 'login_button').click()\n",
    "\n",
    "\n",
    "wait.until(EC.presence_of_element_located(\n",
    "    (By.XPATH, '/html/body/div[1]/div/ul/li[2]/a')),\n",
    "           message='定位超时')\n",
    "\n",
    "cookies = {}\n",
    "for item in driver.get_cookies():\n",
    "    cookies[item['name']] = item['value']\n",
    "cookies"
   ]
  },
  {
   "cell_type": "code",
   "execution_count": null,
   "metadata": {
    "ExecuteTime": {
     "end_time": "2021-12-29T06:49:38.858387Z",
     "start_time": "2021-12-29T06:39:52.858624Z"
    },
    "scrolled": true
   },
   "outputs": [],
   "source": [
    "import requests\n",
    "import os\n",
    "from lxml import etree\n",
    "import re\n",
    "\n",
    "# 创建文件夹\n",
    "isExists = os.path.exists('./4ktupian')\n",
    "if not isExists:\n",
    "    os.makedirs('./4ktupian')\n",
    "\n",
    "headers = {\n",
    "    'Users-Agent': 'Mozilla/5.0 (Windows NT 10.0; Win64; x64) AppleWebKit/537.36 (KHTML, like Gecko) Chrome/96.0.4664.110 Safari/537.36'\n",
    "}\n",
    "\n",
    "url = 'http://pic.netbian.com/4kdongman/index_%d.html'\n",
    "\n",
    "for page in range(1, 16):\n",
    "    if (page == 1):\n",
    "        new_url = 'http://pic.netbian.com/4kdongman/'\n",
    "    else:\n",
    "        new_url = format(url % page)\n",
    "    response = requests.get(url=new_url, headers=headers, cookies=cookies)\n",
    "    # 设置获取响应数据的编码格式\n",
    "    response.encoding = 'gbk'\n",
    "    page_text = response.text\n",
    "\n",
    "    # 数据解析\n",
    "    tree = etree.HTML(page_text)\n",
    "    li_list = tree.xpath('//ul[@class=\"clearfix\"]/li')\n",
    "    img_id_list = []\n",
    "    img_name_list = []\n",
    "    for li in li_list:\n",
    "        img_id = li.xpath('./a/@href')[0]\n",
    "        img_id = re.findall('\\d+', img_id)[0]\n",
    "        img_id_list.append(img_id)\n",
    "        img_name_list.append(li.xpath('./a/img/@alt')[0])\n",
    "\n",
    "    # 获取完整图片url\n",
    "    img_url_list = []\n",
    "    for img_url in img_id_list:\n",
    "        img_url_list.append(f'https://pic.netbian.com/downpic.php?id={img_url}&classid=66')\n",
    "\n",
    "    # 提取图片数据\n",
    "    for i in range(len(img_url_list)):\n",
    "        img_data = requests.get(url=img_url_list[i], headers=headers, cookies=cookies).content\n",
    "        filePath = './4ktupian/' + img_name_list[i] + '.jpg'\n",
    "        with open(filePath, 'wb')as fp:\n",
    "            fp.write(img_data)\n",
    "        print('%s,下载成功' % img_name_list[i])"
   ]
  }
 ],
 "metadata": {
  "kernelspec": {
   "display_name": "Python 3",
   "language": "python",
   "name": "python3"
  },
  "language_info": {
   "codemirror_mode": {
    "name": "ipython",
    "version": 3
   },
   "file_extension": ".py",
   "mimetype": "text/x-python",
   "name": "python",
   "nbconvert_exporter": "python",
   "pygments_lexer": "ipython3",
   "version": "3.8.3"
  }
 },
 "nbformat": 4,
 "nbformat_minor": 4
}
